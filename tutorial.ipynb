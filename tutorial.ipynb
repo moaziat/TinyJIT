{
 "cells": [
  {
   "cell_type": "code",
   "execution_count": 1,
   "id": "a9a58d2e",
   "metadata": {},
   "outputs": [],
   "source": [
    "from tinyjit.ir import Tensor, Function"
   ]
  },
  {
   "cell_type": "code",
   "execution_count": 2,
   "id": "83e50984",
   "metadata": {},
   "outputs": [],
   "source": [
    "#create input tensors\n",
    "a = Tensor(shape=(3,))\n",
    "b = Tensor(shape=(3,)) \n",
    "m = Tensor(shape=(2, 2), name=\"m\")"
   ]
  },
  {
   "cell_type": "code",
   "execution_count": 3,
   "id": "d7d8ad3b",
   "metadata": {},
   "outputs": [
    {
     "data": {
      "text/plain": [
       "%t7: float32(1,)"
      ]
     },
     "execution_count": 3,
     "metadata": {},
     "output_type": "execute_result"
    }
   ],
   "source": [
    "c = a + b \n",
    "d = a.dot(b)\n",
    "s = a.sin()\n",
    "n = a.norm()\n",
    "det = m.determinant()\n",
    "det \n"
   ]
  },
  {
   "cell_type": "code",
   "execution_count": 4,
   "id": "27648fdd",
   "metadata": {},
   "outputs": [
    {
     "data": {
      "text/plain": [
       "array([2., 4., 6.], dtype=float32)"
      ]
     },
     "execution_count": 4,
     "metadata": {},
     "output_type": "execute_result"
    }
   ],
   "source": [
    "from tinyjit import jit\n",
    "import numpy as np \n",
    "func = Function(name=\"vector_add\", inputs=[a, b], outputs=[c])\n",
    "jitted_func = jit(func)\n",
    "\n",
    "res = jitted_func(\n",
    "    np.array([1.0, 2.0, 3.0], dtype=np.float32),\n",
    "    np.array([1.0, 2.0, 3.0], dtype=np.float32)\n",
    ")\n",
    "res"
   ]
  },
  {
   "cell_type": "code",
   "execution_count": 5,
   "id": "071cd637",
   "metadata": {},
   "outputs": [
    {
     "ename": "",
     "evalue": "",
     "output_type": "error",
     "traceback": [
      "\u001b[1;31mThe Kernel crashed while executing code in the current cell or a previous cell. \n",
      "\u001b[1;31mPlease review the code in the cell(s) to identify a possible cause of the failure. \n",
      "\u001b[1;31mClick <a href='https://aka.ms/vscodeJupyterKernelCrash'>here</a> for more info. \n",
      "\u001b[1;31mView Jupyter <a href='command:jupyter.viewOutput'>log</a> for further details."
     ]
    }
   ],
   "source": [
    "a = Tensor(shape=(3,), name=\"a\") \n",
    "c = a.exp()\n",
    "\n",
    "func = Function(name=\"exp\", inputs=[a] , outputs=[c])\n",
    "jitted_func = jit(func)\n",
    "\n",
    "a = np.array([1.0, 2.0, 3.0], dtype=np.float32)\n",
    "exp_a = jitted_func(a)"
   ]
  },
  {
   "cell_type": "code",
   "execution_count": null,
   "id": "7be5b9b0",
   "metadata": {},
   "outputs": [],
   "source": []
  },
  {
   "cell_type": "code",
   "execution_count": null,
   "id": "d1fc0973",
   "metadata": {},
   "outputs": [],
   "source": []
  }
 ],
 "metadata": {
  "kernelspec": {
   "display_name": "base",
   "language": "python",
   "name": "python3"
  },
  "language_info": {
   "codemirror_mode": {
    "name": "ipython",
    "version": 3
   },
   "file_extension": ".py",
   "mimetype": "text/x-python",
   "name": "python",
   "nbconvert_exporter": "python",
   "pygments_lexer": "ipython3",
   "version": "3.12.2"
  }
 },
 "nbformat": 4,
 "nbformat_minor": 5
}
